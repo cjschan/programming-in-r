{
 "cells": [
  {
   "cell_type": "markdown",
   "id": "22266681-0737-4bee-8aa2-2623816714a5",
   "metadata": {},
   "source": [
    "<h1>Assignment 3</h1>\n",
    "<p>This is an assignment I turned in back in 2015 for my R Programming class at UC San Diego Extension that \n",
    "    I decided to redo.</p>\n",
    "<p>Calculate the two-sample t-test for each numerical variable in the chol data frame (from the chol.txt file) \n",
    "by the sex variable by using the apply function. The result should be a matrix that contains five columns:<p> \n",
    "<ol>\n",
    "    <li> F.mean (mean of the numerical variable for Female)</li>\n",
    "    <li> M.mean (mean of the numerical variable for Male)</li>\n",
    "    <li> t (for t-statistics), \n",
    "    <li> df (for degrees of freedom)</li> \n",
    "    <li> and p (for p-value)</li>\n",
    "</ol>"
   ]
  },
  {
   "cell_type": "markdown",
   "id": "fb4d47fa-3615-4bdc-9be8-e8fb8249c631",
   "metadata": {},
   "source": [
    "<h2>Solution 1 (original, with for loop)</h2>"
   ]
  },
  {
   "cell_type": "code",
   "execution_count": 1,
   "id": "4f634752-02c9-4a0c-a7c4-508b074c7fcc",
   "metadata": {},
   "outputs": [
    {
     "data": {
      "text/html": [
       "<table>\n",
       "<thead><tr><th></th><th scope=col>F.mean</th><th scope=col>M.mean</th><th scope=col>t</th><th scope=col>df</th><th scope=col>p</th></tr></thead>\n",
       "<tbody>\n",
       "\t<tr><th scope=row>age</th><td> 22.885417  </td><td> 22.427083  </td><td>-0.20489826 </td><td>187.9970    </td><td>8.378733e-01</td></tr>\n",
       "\t<tr><th scope=row>chol</th><td>202.200000  </td><td>194.936842  </td><td>-0.75035027 </td><td>188.0000    </td><td>4.539818e-01</td></tr>\n",
       "\t<tr><th scope=row>tg</th><td> 79.452632  </td><td> 81.294737  </td><td> 0.28380022 </td><td>158.5931    </td><td>7.769337e-01</td></tr>\n",
       "\t<tr><th scope=row>ht</th><td> 59.197187  </td><td> 63.659792  </td><td> 3.42175696 </td><td>186.0388    </td><td>7.649414e-04</td></tr>\n",
       "\t<tr><th scope=row>wt</th><td>109.510417  </td><td>137.591667  </td><td> 4.09786339 </td><td>183.3389    </td><td>6.254578e-05</td></tr>\n",
       "\t<tr><th scope=row>sbp</th><td>117.125000  </td><td>124.770833  </td><td> 0.99609766 </td><td>113.1632    </td><td>3.213279e-01</td></tr>\n",
       "\t<tr><th scope=row>dbp</th><td> 73.312500  </td><td> 75.822917  </td><td> 1.32775215 </td><td>189.0118    </td><td>1.858613e-01</td></tr>\n",
       "\t<tr><th scope=row>vldl</th><td> 15.231579  </td><td> 15.621053  </td><td> 0.30479390 </td><td>164.7068    </td><td>7.609079e-01</td></tr>\n",
       "\t<tr><th scope=row>hdl</th><td> 51.400000  </td><td> 45.957895  </td><td>-3.37529526 </td><td>187.9173    </td><td>8.958234e-04</td></tr>\n",
       "\t<tr><th scope=row>ldl</th><td>132.115789  </td><td>131.252632  </td><td>-0.09293561 </td><td>187.5109    </td><td>9.260539e-01</td></tr>\n",
       "\t<tr><th scope=row>bmi</th><td>  2.977679  </td><td>  3.223266  </td><td> 2.39434622 </td><td>189.4748    </td><td>1.762516e-02</td></tr>\n",
       "</tbody>\n",
       "</table>\n"
      ],
      "text/latex": [
       "\\begin{tabular}{r|lllll}\n",
       "  & F.mean & M.mean & t & df & p\\\\\n",
       "\\hline\n",
       "\tage &  22.885417   &  22.427083   & -0.20489826  & 187.9970     & 8.378733e-01\\\\\n",
       "\tchol & 202.200000   & 194.936842   & -0.75035027  & 188.0000     & 4.539818e-01\\\\\n",
       "\ttg &  79.452632   &  81.294737   &  0.28380022  & 158.5931     & 7.769337e-01\\\\\n",
       "\tht &  59.197187   &  63.659792   &  3.42175696  & 186.0388     & 7.649414e-04\\\\\n",
       "\twt & 109.510417   & 137.591667   &  4.09786339  & 183.3389     & 6.254578e-05\\\\\n",
       "\tsbp & 117.125000   & 124.770833   &  0.99609766  & 113.1632     & 3.213279e-01\\\\\n",
       "\tdbp &  73.312500   &  75.822917   &  1.32775215  & 189.0118     & 1.858613e-01\\\\\n",
       "\tvldl &  15.231579   &  15.621053   &  0.30479390  & 164.7068     & 7.609079e-01\\\\\n",
       "\thdl &  51.400000   &  45.957895   & -3.37529526  & 187.9173     & 8.958234e-04\\\\\n",
       "\tldl & 132.115789   & 131.252632   & -0.09293561  & 187.5109     & 9.260539e-01\\\\\n",
       "\tbmi &   2.977679   &   3.223266   &  2.39434622  & 189.4748     & 1.762516e-02\\\\\n",
       "\\end{tabular}\n"
      ],
      "text/markdown": [
       "\n",
       "| <!--/--> | F.mean | M.mean | t | df | p |\n",
       "|---|---|---|---|---|---|\n",
       "| age |  22.885417   |  22.427083   | -0.20489826  | 187.9970     | 8.378733e-01 |\n",
       "| chol | 202.200000   | 194.936842   | -0.75035027  | 188.0000     | 4.539818e-01 |\n",
       "| tg |  79.452632   |  81.294737   |  0.28380022  | 158.5931     | 7.769337e-01 |\n",
       "| ht |  59.197187   |  63.659792   |  3.42175696  | 186.0388     | 7.649414e-04 |\n",
       "| wt | 109.510417   | 137.591667   |  4.09786339  | 183.3389     | 6.254578e-05 |\n",
       "| sbp | 117.125000   | 124.770833   |  0.99609766  | 113.1632     | 3.213279e-01 |\n",
       "| dbp |  73.312500   |  75.822917   |  1.32775215  | 189.0118     | 1.858613e-01 |\n",
       "| vldl |  15.231579   |  15.621053   |  0.30479390  | 164.7068     | 7.609079e-01 |\n",
       "| hdl |  51.400000   |  45.957895   | -3.37529526  | 187.9173     | 8.958234e-04 |\n",
       "| ldl | 132.115789   | 131.252632   | -0.09293561  | 187.5109     | 9.260539e-01 |\n",
       "| bmi |   2.977679   |   3.223266   |  2.39434622  | 189.4748     | 1.762516e-02 |\n",
       "\n"
      ],
      "text/plain": [
       "     F.mean     M.mean     t           df       p           \n",
       "age   22.885417  22.427083 -0.20489826 187.9970 8.378733e-01\n",
       "chol 202.200000 194.936842 -0.75035027 188.0000 4.539818e-01\n",
       "tg    79.452632  81.294737  0.28380022 158.5931 7.769337e-01\n",
       "ht    59.197187  63.659792  3.42175696 186.0388 7.649414e-04\n",
       "wt   109.510417 137.591667  4.09786339 183.3389 6.254578e-05\n",
       "sbp  117.125000 124.770833  0.99609766 113.1632 3.213279e-01\n",
       "dbp   73.312500  75.822917  1.32775215 189.0118 1.858613e-01\n",
       "vldl  15.231579  15.621053  0.30479390 164.7068 7.609079e-01\n",
       "hdl   51.400000  45.957895 -3.37529526 187.9173 8.958234e-04\n",
       "ldl  132.115789 131.252632 -0.09293561 187.5109 9.260539e-01\n",
       "bmi    2.977679   3.223266  2.39434622 189.4748 1.762516e-02"
      ]
     },
     "metadata": {},
     "output_type": "display_data"
    }
   ],
   "source": [
    "chol <- read.table(\"chol.txt\", header=TRUE, na.strings=\"NA\")\n",
    "F.mean <- apply(chol[chol$sex==\"F\",][,2:length(chol)],2,mean,na.rm=TRUE)\n",
    "M.mean <- apply(chol[chol$sex == \"M\",][,2:length(chol)],2,mean,na.rm=TRUE)\n",
    "x <- c()\n",
    "for (i in 2:12) x <- rbind(x,as.data.frame(t.test(chol[chol$sex==\"M\",i],chol[chol$sex==\"F\", i],na.rm=T)[1:3]))\n",
    "colnames(x) <- c(\"t\",\"df\",\"p\")\n",
    "result <- data.frame(F.mean,M.mean,x)\n",
    "result"
   ]
  },
  {
   "cell_type": "markdown",
   "id": "2d162f99-8434-4b4b-ae78-2fc762a8708b",
   "metadata": {},
   "source": [
    "<h2>Solution 2 (without for loops)</h2>\n",
    "<p>Not optimal, to revise later</p>"
   ]
  },
  {
   "cell_type": "code",
   "execution_count": 2,
   "id": "a5ea65c7-1a97-427f-8e8f-df6ad2a8bff0",
   "metadata": {},
   "outputs": [
    {
     "data": {
      "text/html": [
       "<table>\n",
       "<thead><tr><th></th><th scope=col>F.mean</th><th scope=col>M.mean</th><th scope=col>t</th><th scope=col>df</th><th scope=col>p</th></tr></thead>\n",
       "<tbody>\n",
       "\t<tr><th scope=row>age</th><td> 22.885417   </td><td> 22.427083   </td><td>  0.2048983  </td><td> 7.649414e-04</td><td> 1.647068e+02</td></tr>\n",
       "\t<tr><th scope=row>chol</th><td>202.200000   </td><td>194.936842   </td><td>187.9970206  </td><td>-4.097863e+00</td><td> 7.609079e-01</td></tr>\n",
       "\t<tr><th scope=row>tg</th><td> 79.452632   </td><td> 81.294737   </td><td>  0.8378733  </td><td> 1.833389e+02</td><td> 3.375295e+00</td></tr>\n",
       "\t<tr><th scope=row>ht</th><td> 59.197187   </td><td> 63.659792   </td><td>  0.7503503  </td><td> 6.254578e-05</td><td> 1.879173e+02</td></tr>\n",
       "\t<tr><th scope=row>wt</th><td>109.510417   </td><td>137.591667   </td><td>187.9999816  </td><td>-9.960977e-01</td><td> 8.958234e-04</td></tr>\n",
       "\t<tr><th scope=row>sbp</th><td>117.125000   </td><td>124.770833   </td><td>  0.4539818  </td><td> 1.131632e+02</td><td> 9.293561e-02</td></tr>\n",
       "\t<tr><th scope=row>dbp</th><td> 73.312500   </td><td> 75.822917   </td><td> -0.2838002  </td><td> 3.213279e-01</td><td> 1.875109e+02</td></tr>\n",
       "\t<tr><th scope=row>vldl</th><td> 15.231579   </td><td> 15.621053   </td><td>158.5931409  </td><td>-1.327752e+00</td><td> 9.260539e-01</td></tr>\n",
       "\t<tr><th scope=row>hdl</th><td> 51.400000   </td><td> 45.957895   </td><td>  0.7769337  </td><td> 1.890118e+02</td><td>-2.394346e+00</td></tr>\n",
       "\t<tr><th scope=row>ldl</th><td>132.115789   </td><td>131.252632   </td><td> -3.4217570  </td><td> 1.858613e-01</td><td> 1.894748e+02</td></tr>\n",
       "\t<tr><th scope=row>bmi</th><td>  2.977679   </td><td>  3.223266   </td><td>186.0387786  </td><td>-3.047939e-01</td><td> 1.762516e-02</td></tr>\n",
       "</tbody>\n",
       "</table>\n"
      ],
      "text/latex": [
       "\\begin{tabular}{r|lllll}\n",
       "  & F.mean & M.mean & t & df & p\\\\\n",
       "\\hline\n",
       "\tage &  22.885417    &  22.427083    &   0.2048983   &  7.649414e-04 &  1.647068e+02\\\\\n",
       "\tchol & 202.200000    & 194.936842    & 187.9970206   & -4.097863e+00 &  7.609079e-01\\\\\n",
       "\ttg &  79.452632    &  81.294737    &   0.8378733   &  1.833389e+02 &  3.375295e+00\\\\\n",
       "\tht &  59.197187    &  63.659792    &   0.7503503   &  6.254578e-05 &  1.879173e+02\\\\\n",
       "\twt & 109.510417    & 137.591667    & 187.9999816   & -9.960977e-01 &  8.958234e-04\\\\\n",
       "\tsbp & 117.125000    & 124.770833    &   0.4539818   &  1.131632e+02 &  9.293561e-02\\\\\n",
       "\tdbp &  73.312500    &  75.822917    &  -0.2838002   &  3.213279e-01 &  1.875109e+02\\\\\n",
       "\tvldl &  15.231579    &  15.621053    & 158.5931409   & -1.327752e+00 &  9.260539e-01\\\\\n",
       "\thdl &  51.400000    &  45.957895    &   0.7769337   &  1.890118e+02 & -2.394346e+00\\\\\n",
       "\tldl & 132.115789    & 131.252632    &  -3.4217570   &  1.858613e-01 &  1.894748e+02\\\\\n",
       "\tbmi &   2.977679    &   3.223266    & 186.0387786   & -3.047939e-01 &  1.762516e-02\\\\\n",
       "\\end{tabular}\n"
      ],
      "text/markdown": [
       "\n",
       "| <!--/--> | F.mean | M.mean | t | df | p |\n",
       "|---|---|---|---|---|---|\n",
       "| age |  22.885417    |  22.427083    |   0.2048983   |  7.649414e-04 |  1.647068e+02 |\n",
       "| chol | 202.200000    | 194.936842    | 187.9970206   | -4.097863e+00 |  7.609079e-01 |\n",
       "| tg |  79.452632    |  81.294737    |   0.8378733   |  1.833389e+02 |  3.375295e+00 |\n",
       "| ht |  59.197187    |  63.659792    |   0.7503503   |  6.254578e-05 |  1.879173e+02 |\n",
       "| wt | 109.510417    | 137.591667    | 187.9999816   | -9.960977e-01 |  8.958234e-04 |\n",
       "| sbp | 117.125000    | 124.770833    |   0.4539818   |  1.131632e+02 |  9.293561e-02 |\n",
       "| dbp |  73.312500    |  75.822917    |  -0.2838002   |  3.213279e-01 |  1.875109e+02 |\n",
       "| vldl |  15.231579    |  15.621053    | 158.5931409   | -1.327752e+00 |  9.260539e-01 |\n",
       "| hdl |  51.400000    |  45.957895    |   0.7769337   |  1.890118e+02 | -2.394346e+00 |\n",
       "| ldl | 132.115789    | 131.252632    |  -3.4217570   |  1.858613e-01 |  1.894748e+02 |\n",
       "| bmi |   2.977679    |   3.223266    | 186.0387786   | -3.047939e-01 |  1.762516e-02 |\n",
       "\n"
      ],
      "text/plain": [
       "     F.mean     M.mean     t           df            p            \n",
       "age   22.885417  22.427083   0.2048983  7.649414e-04  1.647068e+02\n",
       "chol 202.200000 194.936842 187.9970206 -4.097863e+00  7.609079e-01\n",
       "tg    79.452632  81.294737   0.8378733  1.833389e+02  3.375295e+00\n",
       "ht    59.197187  63.659792   0.7503503  6.254578e-05  1.879173e+02\n",
       "wt   109.510417 137.591667 187.9999816 -9.960977e-01  8.958234e-04\n",
       "sbp  117.125000 124.770833   0.4539818  1.131632e+02  9.293561e-02\n",
       "dbp   73.312500  75.822917  -0.2838002  3.213279e-01  1.875109e+02\n",
       "vldl  15.231579  15.621053 158.5931409 -1.327752e+00  9.260539e-01\n",
       "hdl   51.400000  45.957895   0.7769337  1.890118e+02 -2.394346e+00\n",
       "ldl  132.115789 131.252632  -3.4217570  1.858613e-01  1.894748e+02\n",
       "bmi    2.977679   3.223266 186.0387786 -3.047939e-01  1.762516e-02"
      ]
     },
     "metadata": {},
     "output_type": "display_data"
    }
   ],
   "source": [
    "chol <- read.table(\"chol.txt\", header=TRUE, na.strings=\"NA\")\n",
    "output <- apply(chol[,2:12],2,function(x) t.test(x~sex, data=chol,na.rm=T)[1:3])\n",
    "x <- data.frame(matrix(unlist(output), ncol = 3, nrow = 11))\n",
    "# The next two lines repeat the calculations already done for output\n",
    "F.mean <- apply(chol[chol$sex==\"F\",][,2:length(chol)],2,mean,na.rm=TRUE)\n",
    "M.mean <- apply(chol[chol$sex == \"M\",][,2:length(chol)],2,mean,na.rm=TRUE)\n",
    "colnames(x) <- c(\"t\",\"df\",\"p\")\n",
    "results <- data.frame(F.mean,M.mean,x)\n",
    "results"
   ]
  },
  {
   "cell_type": "markdown",
   "id": "8b32f19a-ead6-4436-aa39-46a89de2b812",
   "metadata": {},
   "source": [
    "<h2>Testing</h2>"
   ]
  },
  {
   "cell_type": "code",
   "execution_count": 3,
   "id": "6214994e-5750-4d34-9460-8ec1cf1bb254",
   "metadata": {},
   "outputs": [
    {
     "name": "stdout",
     "output_type": "stream",
     "text": [
      "List of 10\n",
      " $ statistic  : Named num -2.39\n",
      "  ..- attr(*, \"names\")= chr \"t\"\n",
      " $ parameter  : Named num 189\n",
      "  ..- attr(*, \"names\")= chr \"df\"\n",
      " $ p.value    : num 0.0176\n",
      " $ conf.int   : num [1:2] -0.4479 -0.0433\n",
      "  ..- attr(*, \"conf.level\")= num 0.95\n",
      " $ estimate   : Named num [1:2] 2.98 3.22\n",
      "  ..- attr(*, \"names\")= chr [1:2] \"mean in group F\" \"mean in group M\"\n",
      " $ null.value : Named num 0\n",
      "  ..- attr(*, \"names\")= chr \"difference in means\"\n",
      " $ stderr     : num 0.103\n",
      " $ alternative: chr \"two.sided\"\n",
      " $ method     : chr \"Welch Two Sample t-test\"\n",
      " $ data.name  : chr \"bmi by sex\"\n",
      " - attr(*, \"class\")= chr \"htest\"\n"
     ]
    }
   ],
   "source": [
    "str(t.test(bmi~sex, data=chol))"
   ]
  },
  {
   "cell_type": "code",
   "execution_count": 4,
   "id": "8eb3ae21-affc-4df4-8130-9d6582afac0d",
   "metadata": {},
   "outputs": [
    {
     "data": {
      "text/plain": [
       "\n",
       "\tWelch Two Sample t-test\n",
       "\n",
       "data:  bmi by sex\n",
       "t = -2.3943, df = 189.47, p-value = 0.01763\n",
       "alternative hypothesis: true difference in means is not equal to 0\n",
       "95 percent confidence interval:\n",
       " -0.44791241 -0.04326214\n",
       "sample estimates:\n",
       "mean in group F mean in group M \n",
       "       2.977679        3.223266 \n"
      ]
     },
     "metadata": {},
     "output_type": "display_data"
    }
   ],
   "source": [
    "t.test(bmi~sex, data=chol)"
   ]
  },
  {
   "cell_type": "code",
   "execution_count": 5,
   "id": "8c5ff13a-c970-41da-9958-91d45facbde6",
   "metadata": {},
   "outputs": [
    {
     "data": {
      "text/html": [
       "<strong>t:</strong> -2.39434622337283"
      ],
      "text/latex": [
       "\\textbf{t:} -2.39434622337283"
      ],
      "text/markdown": [
       "**t:** -2.39434622337283"
      ],
      "text/plain": [
       "        t \n",
       "-2.394346 "
      ]
     },
     "metadata": {},
     "output_type": "display_data"
    }
   ],
   "source": [
    "t.test(bmi~sex, data=chol)$statistic"
   ]
  },
  {
   "cell_type": "code",
   "execution_count": 6,
   "id": "94969888-6629-4d90-a265-f70708fbc522",
   "metadata": {},
   "outputs": [
    {
     "data": {
      "text/html": [
       "<strong>df:</strong> 189.474831415273"
      ],
      "text/latex": [
       "\\textbf{df:} 189.474831415273"
      ],
      "text/markdown": [
       "**df:** 189.474831415273"
      ],
      "text/plain": [
       "      df \n",
       "189.4748 "
      ]
     },
     "metadata": {},
     "output_type": "display_data"
    }
   ],
   "source": [
    "t.test(bmi~sex, data=chol)$parameter"
   ]
  },
  {
   "cell_type": "code",
   "execution_count": 7,
   "id": "f6af7802-8990-4edd-b82e-755198270720",
   "metadata": {},
   "outputs": [
    {
     "data": {
      "text/html": [
       "0.0176251621935097"
      ],
      "text/latex": [
       "0.0176251621935097"
      ],
      "text/markdown": [
       "0.0176251621935097"
      ],
      "text/plain": [
       "[1] 0.01762516"
      ]
     },
     "metadata": {},
     "output_type": "display_data"
    }
   ],
   "source": [
    "t.test(bmi~sex, data=chol)$p.value"
   ]
  },
  {
   "cell_type": "code",
   "execution_count": 8,
   "id": "04eac8ce-511a-4e92-a896-be0c816486f9",
   "metadata": {},
   "outputs": [
    {
     "data": {
      "text/html": [
       "<dl class=dl-horizontal>\n",
       "\t<dt>mean in group F</dt>\n",
       "\t\t<dd>2.9776791570625</dd>\n",
       "\t<dt>mean in group M</dt>\n",
       "\t\t<dd>3.22326643377083</dd>\n",
       "</dl>\n"
      ],
      "text/latex": [
       "\\begin{description*}\n",
       "\\item[mean in group F] 2.9776791570625\n",
       "\\item[mean in group M] 3.22326643377083\n",
       "\\end{description*}\n"
      ],
      "text/markdown": [
       "mean in group F\n",
       ":   2.9776791570625mean in group M\n",
       ":   3.22326643377083\n",
       "\n"
      ],
      "text/plain": [
       "mean in group F mean in group M \n",
       "       2.977679        3.223266 "
      ]
     },
     "metadata": {},
     "output_type": "display_data"
    }
   ],
   "source": [
    "t.test(bmi~sex, data=chol)$estimate"
   ]
  }
 ],
 "metadata": {
  "kernelspec": {
   "display_name": "R",
   "language": "R",
   "name": "ir"
  },
  "language_info": {
   "codemirror_mode": "r",
   "file_extension": ".r",
   "mimetype": "text/x-r-source",
   "name": "R",
   "pygments_lexer": "r",
   "version": "3.6.0"
  }
 },
 "nbformat": 4,
 "nbformat_minor": 5
}
