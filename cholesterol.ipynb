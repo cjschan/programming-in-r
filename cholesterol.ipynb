{
 "cells": [
  {
   "cell_type": "markdown",
   "id": "24a2b732-95e3-4565-9280-167aa9f368b0",
   "metadata": {},
   "source": [
    "<h1>Assignment 3</h1>\n",
    "<p>Calculate the two-sample t-test for each numerical variable in the chol data frame (from the chol.txt file) \n",
    "by the sex variable by using the apply function. The result should be a matrix that contains five columns:\n",
    "F.mean (mean of the numerical variable for Female), M.mean (mean of the numerical variable for Male),\n",
    "t (for t-statistics), and p (for p-value).\n",
    "<p> "
   ]
  },
  {
   "cell_type": "markdown",
   "id": "59081c1e-160b-4cb2-842b-87f38f78fabd",
   "metadata": {},
   "source": [
    "<h2>Solution 1</h2>"
   ]
  },
  {
   "cell_type": "code",
   "execution_count": 1,
   "id": "4f634752-02c9-4a0c-a7c4-508b074c7fcc",
   "metadata": {},
   "outputs": [],
   "source": [
    "chol <- read.table(\"chol.txt\", header=TRUE, na.strings=\"NA\")\n",
    "\n",
    "x <- c()\n",
    "F.mean <- c()\n",
    "M.mean <- c()\n",
    "\n",
    "for (i in 2:12) {\n",
    "    x <- rbind(x,as.data.frame(t.test(chol[chol$sex==\"M\",i],chol[chol$sex==\"F\", i],na.rm=T)[1:3]))\n",
    "    F.mean <- rbind(F.mean,mean(chol[chol$sex==\"F\",i],na.rm=T))\n",
    "    M.mean <- rbind(M.mean,mean(chol[chol$sex==\"M\",i],na.rm=T))\n",
    "}\n",
    "\n",
    "results <- data.frame(F.mean,M.mean,x)\n",
    "colnames(results) <- c(\"F.mean\",\"M.mean\",\"t\",\"df\",\"p\")\n",
    "rownames(results) <- c(\"age\",\"col\",\"tg\",\"ht\",\"wt\",\"sbp\",\"dbp\",\"vldl\",\"hdl\",\"ldl\",\"bmi\")"
   ]
  },
  {
   "cell_type": "markdown",
   "id": "2d162f99-8434-4b4b-ae78-2fc762a8708b",
   "metadata": {},
   "source": [
    "<h2>Solution 2</h2>"
   ]
  },
  {
   "cell_type": "code",
   "execution_count": 2,
   "id": "89ec331e-a1e1-4b3a-b848-1dff52793de0",
   "metadata": {},
   "outputs": [],
   "source": [
    "# Load the cholesterol data\n",
    "chol <- read.table(\"chol.txt\", header=TRUE, na.strings=\"NA\")\n",
    "\n",
    "# Subset columns containing numerical data\n",
    "num_vars <- c(\"age\",\"chol\",\"tg\",\"ht\",\"wt\",\"sbp\",\"dbp\",\"vldl\",\"hdl\",\"ldl\",\"bmi\")\n",
    "chol_num <- chol[num_vars]\n",
    "\n",
    "# Relevant t-test attributes\n",
    "params <- c(\"estimate\",\"statistic\",\"parameter\",\"p.value\")\n",
    "\n",
    "# Use apply function to perform 2-sample t.test between groups\n",
    "output <- apply(chol_num,2,function(x) t.test(x~sex, data=chol,na.rm=T)[params])\n",
    "matrix_output <- t(matrix(unlist(output), ncol = 11, nrow = 5))\n",
    "results <- data.frame(matrix_output)\n",
    "                \n",
    "# Assign row and column labels\n",
    "colnames(results) <- c(\"F.mean\",\"M.mean\",\"t\",\"df\",\"p\")\n",
    "rownames(results) <- num_vars"
   ]
  },
  {
   "cell_type": "markdown",
   "id": "8b32f19a-ead6-4436-aa39-46a89de2b812",
   "metadata": {},
   "source": [
    "<h2>Testing</h2>"
   ]
  },
  {
   "cell_type": "code",
   "execution_count": 3,
   "id": "6214994e-5750-4d34-9460-8ec1cf1bb254",
   "metadata": {},
   "outputs": [
    {
     "name": "stdout",
     "output_type": "stream",
     "text": [
      "List of 10\n",
      " $ statistic  : Named num -2.39\n",
      "  ..- attr(*, \"names\")= chr \"t\"\n",
      " $ parameter  : Named num 189\n",
      "  ..- attr(*, \"names\")= chr \"df\"\n",
      " $ p.value    : num 0.0176\n",
      " $ conf.int   : num [1:2] -0.4479 -0.0433\n",
      "  ..- attr(*, \"conf.level\")= num 0.95\n",
      " $ estimate   : Named num [1:2] 2.98 3.22\n",
      "  ..- attr(*, \"names\")= chr [1:2] \"mean in group F\" \"mean in group M\"\n",
      " $ null.value : Named num 0\n",
      "  ..- attr(*, \"names\")= chr \"difference in means\"\n",
      " $ stderr     : num 0.103\n",
      " $ alternative: chr \"two.sided\"\n",
      " $ method     : chr \"Welch Two Sample t-test\"\n",
      " $ data.name  : chr \"bmi by sex\"\n",
      " - attr(*, \"class\")= chr \"htest\"\n"
     ]
    }
   ],
   "source": [
    "str(t.test(bmi~sex, data=chol))"
   ]
  },
  {
   "cell_type": "code",
   "execution_count": 4,
   "id": "8eb3ae21-affc-4df4-8130-9d6582afac0d",
   "metadata": {},
   "outputs": [
    {
     "data": {
      "text/plain": [
       "\n",
       "\tWelch Two Sample t-test\n",
       "\n",
       "data:  bmi by sex\n",
       "t = -2.3943, df = 189.47, p-value = 0.01763\n",
       "alternative hypothesis: true difference in means is not equal to 0\n",
       "95 percent confidence interval:\n",
       " -0.44791241 -0.04326214\n",
       "sample estimates:\n",
       "mean in group F mean in group M \n",
       "       2.977679        3.223266 \n"
      ]
     },
     "metadata": {},
     "output_type": "display_data"
    }
   ],
   "source": [
    "t.test(bmi~sex, data=chol)"
   ]
  },
  {
   "cell_type": "code",
   "execution_count": 5,
   "id": "8c5ff13a-c970-41da-9958-91d45facbde6",
   "metadata": {},
   "outputs": [
    {
     "data": {
      "text/html": [
       "<strong>t:</strong> -2.39434622337283"
      ],
      "text/latex": [
       "\\textbf{t:} -2.39434622337283"
      ],
      "text/markdown": [
       "**t:** -2.39434622337283"
      ],
      "text/plain": [
       "        t \n",
       "-2.394346 "
      ]
     },
     "metadata": {},
     "output_type": "display_data"
    }
   ],
   "source": [
    "t.test(bmi~sex, data=chol)$statistic"
   ]
  },
  {
   "cell_type": "code",
   "execution_count": 6,
   "id": "94969888-6629-4d90-a265-f70708fbc522",
   "metadata": {},
   "outputs": [
    {
     "data": {
      "text/html": [
       "<strong>df:</strong> 189.474831415273"
      ],
      "text/latex": [
       "\\textbf{df:} 189.474831415273"
      ],
      "text/markdown": [
       "**df:** 189.474831415273"
      ],
      "text/plain": [
       "      df \n",
       "189.4748 "
      ]
     },
     "metadata": {},
     "output_type": "display_data"
    }
   ],
   "source": [
    "t.test(bmi~sex, data=chol)$parameter"
   ]
  },
  {
   "cell_type": "code",
   "execution_count": 7,
   "id": "f6af7802-8990-4edd-b82e-755198270720",
   "metadata": {},
   "outputs": [
    {
     "data": {
      "text/html": [
       "0.0176251621935097"
      ],
      "text/latex": [
       "0.0176251621935097"
      ],
      "text/markdown": [
       "0.0176251621935097"
      ],
      "text/plain": [
       "[1] 0.01762516"
      ]
     },
     "metadata": {},
     "output_type": "display_data"
    }
   ],
   "source": [
    "t.test(bmi~sex, data=chol)$p.value"
   ]
  }
 ],
 "metadata": {
  "kernelspec": {
   "display_name": "R",
   "language": "R",
   "name": "ir"
  },
  "language_info": {
   "codemirror_mode": "r",
   "file_extension": ".r",
   "mimetype": "text/x-r-source",
   "name": "R",
   "pygments_lexer": "r",
   "version": "3.6.0"
  }
 },
 "nbformat": 4,
 "nbformat_minor": 5
}
